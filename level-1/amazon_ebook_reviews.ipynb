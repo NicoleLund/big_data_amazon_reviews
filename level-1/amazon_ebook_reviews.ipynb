{
  "nbformat": 4,
  "nbformat_minor": 0,
  "metadata": {
    "colab": {
      "name": "amazon_ebook_reviews.ipynb",
      "provenance": []
    },
    "kernelspec": {
      "name": "python3",
      "display_name": "Python 3"
    },
    "language_info": {
      "name": "python"
    }
  },
  "cells": [
    {
      "cell_type": "markdown",
      "metadata": {
        "id": "HsWMsnV_UkcI"
      },
      "source": [
        "# Amazon Reviews\n",
        "\n",
        "written in Google Colab using Amazon S3, Amazon RDS and PySpark\n",
        "\n",
        "by Nicole Lund\n",
        "1. Extract review data from S3\n",
        "2. Transform the data to match the provided schema file\n",
        "3. Load the data to RDS"
      ]
    },
    {
      "cell_type": "markdown",
      "metadata": {
        "id": "_yni6qQMTGzD"
      },
      "source": [
        "### Selected Data Source\n",
        "\n",
        "EBooks\n",
        "* https://s3.amazonaws.com/amazon-reviews-pds/tsv/amazon_reviews_us_Digital_Ebook_Purchase_v1_01.tsv.gz\n",
        "* https://s3.amazonaws.com/amazon-reviews-pds/tsv/amazon_reviews_us_Digital_Ebook_Purchase_v1_00.tsv.gz"
      ]
    },
    {
      "cell_type": "markdown",
      "metadata": {
        "id": "53N0h6eeGexb"
      },
      "source": [
        "### Required database schema"
      ]
    },
    {
      "cell_type": "code",
      "metadata": {
        "id": "ne0zSe6PS_r7"
      },
      "source": [
        "# CREATE TABLE review_id_table (\n",
        "#   review_id TEXT PRIMARY KEY NOT NULL,\n",
        "#   customer_id INTEGER,\n",
        "#   product_id TEXT,\n",
        "#   product_parent INTEGER,\n",
        "#   review_date DATE -- this should be in the formate yyyy-mm-dd\n",
        "# );\n",
        "\n",
        "# -- This table will contain only unique values\n",
        "# CREATE TABLE products (\n",
        "#   product_id TEXT PRIMARY KEY NOT NULL UNIQUE,\n",
        "#   product_title TEXT\n",
        "# );\n",
        "\n",
        "# -- Customer table for first data set\n",
        "# CREATE TABLE customers (\n",
        "#   customer_id INT PRIMARY KEY NOT NULL UNIQUE,\n",
        "#   customer_count INT\n",
        "# );\n",
        "\n",
        "# -- vine table\n",
        "# CREATE TABLE vine_table (\n",
        "#   review_id TEXT PRIMARY KEY,\n",
        "#   star_rating INTEGER,\n",
        "#   helpful_votes INTEGER,\n",
        "#   total_votes INTEGER,\n",
        "#   vine TEXT\n",
        "# );\n"
      ],
      "execution_count": null,
      "outputs": []
    },
    {
      "cell_type": "markdown",
      "metadata": {
        "id": "qco9MiObEfOV"
      },
      "source": [
        "### Initialize Notebook Settings"
      ]
    },
    {
      "cell_type": "code",
      "metadata": {
        "colab": {
          "base_uri": "https://localhost:8080/"
        },
        "id": "hsPrsDoiUV2Y",
        "outputId": "c18e8602-68d3-42c0-e633-2b6d8ed640ac"
      },
      "source": [
        "!apt-get install openjdk-8-jdk-headless -qq > /dev/null\n",
        "import os\n",
        "os.environ[\"JAVA_HOME\"] = \"/usr/lib/jvm/java-8-openjdk-amd64\"\n",
        "!update-alternatives --set java /usr/lib/jvm/java-8-openjdk-amd64/jre/bin/java\n",
        "\n",
        "!pip install pyspark"
      ],
      "execution_count": 1,
      "outputs": [
        {
          "output_type": "stream",
          "text": [
            "update-alternatives: using /usr/lib/jvm/java-8-openjdk-amd64/jre/bin/java to provide /usr/bin/java (java) in manual mode\n",
            "Collecting pyspark\n",
            "  Downloading pyspark-3.1.2.tar.gz (212.4 MB)\n",
            "\u001b[K     |████████████████████████████████| 212.4 MB 59 kB/s \n",
            "\u001b[?25hCollecting py4j==0.10.9\n",
            "  Downloading py4j-0.10.9-py2.py3-none-any.whl (198 kB)\n",
            "\u001b[K     |████████████████████████████████| 198 kB 41.0 MB/s \n",
            "\u001b[?25hBuilding wheels for collected packages: pyspark\n",
            "  Building wheel for pyspark (setup.py) ... \u001b[?25l\u001b[?25hdone\n",
            "  Created wheel for pyspark: filename=pyspark-3.1.2-py2.py3-none-any.whl size=212880768 sha256=587abd9a734997fec611014e4f0a03d56446d1f2c60807b5de95db4a3b449e2f\n",
            "  Stored in directory: /root/.cache/pip/wheels/a5/0a/c1/9561f6fecb759579a7d863dcd846daaa95f598744e71b02c77\n",
            "Successfully built pyspark\n",
            "Installing collected packages: py4j, pyspark\n",
            "Successfully installed py4j-0.10.9 pyspark-3.1.2\n"
          ],
          "name": "stdout"
        }
      ]
    },
    {
      "cell_type": "code",
      "metadata": {
        "colab": {
          "base_uri": "https://localhost:8080/"
        },
        "id": "zuGzIIuCVfWm",
        "outputId": "ca1f44f8-f29b-49d7-f5ee-1776819b9771"
      },
      "source": [
        "!wget https://jdbc.postgresql.org/download/postgresql-42.2.9.jar"
      ],
      "execution_count": 2,
      "outputs": [
        {
          "output_type": "stream",
          "text": [
            "--2021-08-27 20:13:11--  https://jdbc.postgresql.org/download/postgresql-42.2.9.jar\n",
            "Resolving jdbc.postgresql.org (jdbc.postgresql.org)... 72.32.157.228, 2001:4800:3e1:1::228\n",
            "Connecting to jdbc.postgresql.org (jdbc.postgresql.org)|72.32.157.228|:443... connected.\n",
            "HTTP request sent, awaiting response... 200 OK\n",
            "Length: 914037 (893K) [application/java-archive]\n",
            "Saving to: ‘postgresql-42.2.9.jar’\n",
            "\n",
            "postgresql-42.2.9.j 100%[===================>] 892.61K  --.-KB/s    in 0.1s    \n",
            "\n",
            "2021-08-27 20:13:11 (5.97 MB/s) - ‘postgresql-42.2.9.jar’ saved [914037/914037]\n",
            "\n"
          ],
          "name": "stdout"
        }
      ]
    },
    {
      "cell_type": "code",
      "metadata": {
        "id": "9xNB7fisnrxP"
      },
      "source": [
        "# Import dependencies\n",
        "from pyspark.sql import SparkSession\n",
        "from pyspark import SparkFiles\n",
        "from pyspark.sql.types import StructField, StringType, IntegerType, DateType, StructType\n",
        "from pyspark.sql.functions import col"
      ],
      "execution_count": 3,
      "outputs": []
    },
    {
      "cell_type": "code",
      "metadata": {
        "id": "sGE6JvNiV3Fs"
      },
      "source": [
        "# Initialize Session\n",
        "spark = SparkSession.builder.appName(\"reviews\").config(\"spark.driver.extraClassPath\",\"/content/postgresql-42.2.9.jar\").getOrCreate()"
      ],
      "execution_count": 4,
      "outputs": []
    },
    {
      "cell_type": "markdown",
      "metadata": {
        "id": "wXUUPB1OE--2"
      },
      "source": [
        "### Setup RDS Access"
      ]
    },
    {
      "cell_type": "code",
      "metadata": {
        "colab": {
          "base_uri": "https://localhost:8080/"
        },
        "id": "a2ptB-Kcxhtr",
        "outputId": "a8ae1b7e-3aba-4dd9-b5db-54d0e971761c"
      },
      "source": [
        "# Collect RDS Credentials securely\n",
        "from getpass import getpass\n",
        "print('Input RDS URL in the jdbc:postgresql://<Endpoint>:5432/<DB identifier> format:')\n",
        "jdbc_url = getpass()\n",
        "print('Input RDS Password:')\n",
        "password = getpass()"
      ],
      "execution_count": 5,
      "outputs": [
        {
          "output_type": "stream",
          "text": [
            "Input RDS URL in the jdbc:postgresql://<Endpoint>:5432/<DB identifier> format:\n",
            "··········\n",
            "Input RDS Password:\n",
            "··········\n"
          ],
          "name": "stdout"
        }
      ]
    },
    {
      "cell_type": "code",
      "metadata": {
        "id": "KRpBXUdTyAOp"
      },
      "source": [
        "# Configure RDS settings\n",
        "mode = \"append\"\n",
        "config = {\"user\":\"postgres\", \n",
        "          \"password\": password, \n",
        "          \"driver\":\"org.postgresql.Driver\"}"
      ],
      "execution_count": 6,
      "outputs": []
    },
    {
      "cell_type": "markdown",
      "metadata": {
        "id": "lK4tYR7DEmuE"
      },
      "source": [
        "### Download and merge source data into one DataFrame"
      ]
    },
    {
      "cell_type": "code",
      "metadata": {
        "id": "BFWcmc9yV-Jc"
      },
      "source": [
        "# Define Function: Read in data from S3 Buckets\n",
        "\n",
        "def download(url):\n",
        "  # Define struct fields that match the RDS schema\n",
        "  schema_def = [ \\\n",
        "                StructField(\"marketplace\", StringType(), True), \\\n",
        "                StructField(\"customer_id\", IntegerType(), True), \\\n",
        "                StructField(\"review_id\", StringType(), True), \\\n",
        "                StructField(\"product_id\", StringType(), True), \\\n",
        "                StructField(\"product_parent\", IntegerType(), True), \\\n",
        "                StructField(\"product_title\", StringType(), True), \\\n",
        "                StructField(\"product_category\", StringType(), True), \\\n",
        "                StructField(\"star_rating\", IntegerType(), True), \\\n",
        "                StructField(\"helpful_votes\", IntegerType(), True), \\\n",
        "                StructField(\"total_votes\", IntegerType(), True), \\\n",
        "                StructField(\"vine\", StringType(), True), \\\n",
        "                StructField(\"verified_purchase\", StringType(), True), \\\n",
        "                StructField(\"review_headline\", StringType(), True), \\\n",
        "                StructField(\"review_body\", StringType(), True), \\\n",
        "                StructField(\"review_date\", DateType(), True) \\\n",
        "              ]\n",
        "  schema_struct = StructType(fields=schema_def)  \n",
        "\n",
        "  # Retrieve file name  \n",
        "  file = url[48:]\n",
        "  print(f'Retrieving {file}')\n",
        "  \n",
        "  # Download file\n",
        "  spark.sparkContext.addFile(url)\n",
        "  reviews_df = spark.read.csv(SparkFiles.get(file), schema=schema_struct, sep=\"\\t\", header=True, inferSchema=True)\n",
        "\n",
        "  # Display file info\n",
        "  print(f'Number of records: {reviews_df.count()}')\n",
        "  print(reviews_df.show())\n",
        "  \n",
        "  # Return DataFrame\n",
        "  return reviews_df"
      ],
      "execution_count": 7,
      "outputs": []
    },
    {
      "cell_type": "code",
      "metadata": {
        "colab": {
          "base_uri": "https://localhost:8080/"
        },
        "id": "wk5cW2YmWZN8",
        "outputId": "9b7d8f6d-3eae-4327-86da-a2e20db0f71e"
      },
      "source": [
        "# Download Data File 00\n",
        "url_0 = \"https://s3.amazonaws.com/amazon-reviews-pds/tsv/amazon_reviews_us_Digital_Ebook_Purchase_v1_00.tsv.gz\"\n",
        "reviews_0_df = download(url_0)"
      ],
      "execution_count": 8,
      "outputs": [
        {
          "output_type": "stream",
          "text": [
            "Retrieving amazon_reviews_us_Digital_Ebook_Purchase_v1_00.tsv.gz\n",
            "Number of records: 12520722\n",
            "+-----------+-----------+--------------+----------+--------------+--------------------+--------------------+-----------+-------------+-----------+----+-----------------+--------------------+--------------------+-----------+\n",
            "|marketplace|customer_id|     review_id|product_id|product_parent|       product_title|    product_category|star_rating|helpful_votes|total_votes|vine|verified_purchase|     review_headline|         review_body|review_date|\n",
            "+-----------+-----------+--------------+----------+--------------+--------------------+--------------------+-----------+-------------+-----------+----+-----------------+--------------------+--------------------+-----------+\n",
            "|         US|   35471030|R1C5OK9AND7PRP|B00AHK07V0|     175130663|Hunter's Moon (A ...|Digital_Ebook_Pur...|          5|            0|          0|   N|                Y|Shugak is like a ...|This is the most ...| 2015-08-31|\n",
            "|         US|   26579324|R333RNBQMPVUFT|B014085WTQ|     859232728|Flying Toward For...|Digital_Ebook_Pur...|          5|            0|          0|   N|                Y|For the young hea...|This story holds ...| 2015-08-31|\n",
            "|         US|    9152364|R2A2K0GTNSKXM1|B0113MFPN0|     411472516|Falling For A Rea...|Digital_Ebook_Pur...|          5|            0|          0|   N|                N|          Five Stars|A true love story...| 2015-08-31|\n",
            "|         US|   52087605|R365LAQ9REV876|B00T8RIK7G|     353828021|   The Good Neighbor|Digital_Ebook_Pur...|          3|            0|          0|   N|                Y|Not really my typ...|A bit contrived a...| 2015-08-31|\n",
            "|         US|   46454660|R294OF3SNH6SWZ|B00EMXBDMA|     803172158|The Martian: A Novel|Digital_Ebook_Pur...|          4|            0|          0|   N|                Y|Coming soon to a ...|Moved well. Seeme...| 2015-08-31|\n",
            "|         US|   33168429|R2OMRH58WYEEP9|B00GL3OJIY|     325772386|The Painter: A novel|Digital_Ebook_Pur...|          5|            0|          0|   N|                N|        I liked it a|Very different an...| 2015-08-31|\n",
            "|         US|   18546798| RBFXYUJZIH5JR|B00RW30QE8|     236508296|        METEOR STORM|Digital_Ebook_Pur...|          5|            0|          0|   N|                Y|The author delive...|Once I started re...| 2015-08-31|\n",
            "|         US|   47463409|R2K2RSBNV42HU4|B0101AE85Q|     924272105|Diary of a Crazy ...|Digital_Ebook_Pur...|          5|            0|          0|   N|                N|This book is amaz...|Super quality, gr...| 2015-08-31|\n",
            "|         US|   11767467|R2CLRFFJ5HJSU3|B00IO7QAI2|     393059633|Unlocking Potenti...|Digital_Ebook_Pur...|          4|            0|          0|   N|                N|          Four Stars|    A useful primer.| 2015-08-31|\n",
            "|         US|   14241457| RS1O7V45AADDO|B00PM995TG|     529331494|The Einstein Prop...|Digital_Ebook_Pur...|          4|            0|          0|   N|                Y|          Four Stars|   enjoyed the story| 2015-08-31|\n",
            "|         US|   52821351| RYD2AF3KUC4OL|B00K4C4GVI|     310020786|Make It Ahead: A ...|Digital_Ebook_Pur...|          5|            2|          2|   N|                Y|Because of her I ...|This isn't the he...| 2015-08-31|\n",
            "|         US|   14416837| RHQTCPUF1CXY2|B00PUSKG8I|     683060701|The Shipwreck of ...|Digital_Ebook_Pur...|          4|            0|          0|   N|                Y|Very interesting ...|This is a very qu...| 2015-08-31|\n",
            "|         US|   17189419|R3371UTDP6I1FU|B00FNCSBCE|     813812785|20 Compelling Evi...|Digital_Ebook_Pur...|          5|            0|          0|   N|                Y|           Excellent|For some reason I...| 2015-08-31|\n",
            "|         US|   44043796|R2RI2S5Q90RG23|B004XFYN9M|     972973628|   What Alice Forgot|Digital_Ebook_Pur...|          5|            0|          0|   N|                Y|           good read|Good character de...| 2015-08-31|\n",
            "|         US|   24135769| RCYE82T9GRT48|B00K0OI42W|     994527755|To Kill a Mocking...|Digital_Ebook_Pur...|          5|            0|          0|   N|                Y|I last read it in...|This was a reread...| 2015-08-31|\n",
            "|         US|   47496659|R12T8WK03VQNC5|B00N2HHPQU|     886553830|The Housewife Ass...|Digital_Ebook_Pur...|          4|            1|          1|   N|                Y|          Four Stars|           enjoyable| 2015-08-31|\n",
            "|         US|   21051459|R3RVME26X4DGJX|B00ZPCLT0S|     296387019|Illusive (Storm M...|Digital_Ebook_Pur...|          5|            0|          0|   N|                N|           Fantastic|Oh how UNFAIR thi...| 2015-08-31|\n",
            "|         US|   45295639|R3BME7NLVCMJHW|B00QSNV82C|     506388384|A Mansion, A Drag...|Digital_Ebook_Pur...|          4|            0|          0|   N|                Y|          Four Stars|Light reading, ve...| 2015-08-31|\n",
            "|         US|   14443051|R1PKMRYLDMVN2P|B00PQL9U4K|      26715694|         Wolf Hunter|Digital_Ebook_Pur...|          3|            0|          0|   N|                Y|                Good|This is a ok book...| 2015-08-31|\n",
            "|         US|   37039571|R1TR7VKTTJV505|B004FGMDOQ|     333044434|Miss Peregrine's ...|Digital_Ebook_Pur...|          5|            0|          0|   N|                N|          Five Stars|Great book! My st...| 2015-08-31|\n",
            "+-----------+-----------+--------------+----------+--------------+--------------------+--------------------+-----------+-------------+-----------+----+-----------------+--------------------+--------------------+-----------+\n",
            "only showing top 20 rows\n",
            "\n",
            "None\n"
          ],
          "name": "stdout"
        }
      ]
    },
    {
      "cell_type": "code",
      "metadata": {
        "colab": {
          "base_uri": "https://localhost:8080/"
        },
        "id": "hKbcO_OCWqQW",
        "outputId": "a4949973-c802-4bfe-8735-80fe276e3d0b"
      },
      "source": [
        "# Download Data File 01\n",
        "url_1 = \"https://s3.amazonaws.com/amazon-reviews-pds/tsv/amazon_reviews_us_Digital_Ebook_Purchase_v1_01.tsv.gz\"\n",
        "reviews_1_df = download(url_1)"
      ],
      "execution_count": 9,
      "outputs": [
        {
          "output_type": "stream",
          "text": [
            "Retrieving amazon_reviews_us_Digital_Ebook_Purchase_v1_01.tsv.gz\n",
            "Number of records: 5101693\n",
            "+-----------+-----------+--------------+----------+--------------+--------------------+--------------------+-----------+-------------+-----------+----+-----------------+--------------------+--------------------+-----------+\n",
            "|marketplace|customer_id|     review_id|product_id|product_parent|       product_title|    product_category|star_rating|helpful_votes|total_votes|vine|verified_purchase|     review_headline|         review_body|review_date|\n",
            "+-----------+-----------+--------------+----------+--------------+--------------------+--------------------+-----------+-------------+-----------+----+-----------------+--------------------+--------------------+-----------+\n",
            "|         US|   33605939| RGYFDX8QXKEIR|B007KO2MLO|     328837464|           Big Maria|Digital_Ebook_Pur...|          4|            0|          0|   N|                N|              Quirky|Elmore Leonard me...| 2013-09-09|\n",
            "|         US|   34058393|R13CBGTMNV9R8Z|B005FLODDE|     764276359|The Woman Who Was...|Digital_Ebook_Pur...|          4|            1|          2|   N|                Y|The Woman Who Was...|This book was ver...| 2013-09-09|\n",
            "|         US|   39601147| R7DRFHC0F71O0|B00EA3L35O|     535606445|Mary had A Sleepy...|Digital_Ebook_Pur...|          5|            0|          0|   N|                N|This Sleepy Sheep...|I had the opportu...| 2013-09-09|\n",
            "|         US|   17351407|R27LUKEXU3KBXQ|B00BL3JV50|     240053004|          Starstruck|Digital_Ebook_Pur...|          5|            1|          1|   N|                Y|Steamy and suspen...|What a great read...| 2013-09-09|\n",
            "|         US|   10463387|R1VXTPUYMNU687|B00CXU7U80|     931529805|The Complete Cona...|Digital_Ebook_Pur...|          5|            1|          2|   N|                N|          Barbarians|Barbarians need l...| 2013-09-09|\n",
            "|         US|   50484904|R30DKW1GJWLPZC|B004EWGS5G|     442453110|The Middle Passag...|Digital_Ebook_Pur...|          3|            1|          2|   N|                Y|            Menu....|It was okay obvio...| 2013-09-09|\n",
            "|         US|    7145636|R18DPFG2FALJI9|B00BNRJAT6|     856774152|Hide in Plain Sig...|Digital_Ebook_Pur...|          5|            0|          0|   N|                Y|        Awesome book|Very interesting ...| 2013-09-09|\n",
            "|         US|    6285538|R24D677N5WBW5Q|B007FZOXJM|       5589837|Face of Betrayal ...|Digital_Ebook_Pur...|          5|            0|          0|   N|                Y|    Face of betrayal|Really enjoyed th...| 2013-09-09|\n",
            "|         US|   10278048|R2FCJ9BQLSIOR3|B00B6AK7LU|     362701357|Final Justice (A ...|Digital_Ebook_Pur...|          5|            0|          0|   N|                Y|           Very good|I really liked th...| 2013-09-09|\n",
            "|         US|   16568972|R1R6K4MAKDWTXI|B00EVMMLU0|     342745087|Falling For My Hu...|Digital_Ebook_Pur...|          4|            0|          0|   N|                Y|Ouch! My neck is ...|Reading Callum an...| 2013-09-09|\n",
            "|         US|   26001763|R3R5DILCWM8J7B|B00E4W4984|     186117550|  Forgetting Tabitha|Digital_Ebook_Pur...|          5|            0|          0|   N|                Y|It was a wonderfu...|I really enjoyed ...| 2013-09-09|\n",
            "|         US|   48203259| RR5K72IZOCOFE|B005A1JBB8|     947574172|The Blacksmith's ...|Digital_Ebook_Pur...|          4|            0|          0|   N|                N|       Worth reading|Although not comp...| 2013-09-09|\n",
            "|         US|   45028038|R3K9PJU5GLDY3O|B0044DELIQ|     427899617|Vampire Vacation:...|Digital_Ebook_Pur...|          5|            1|          2|   N|                Y|      Very Good Romp|Enjoyed the chara...| 2013-09-09|\n",
            "|         US|   42554355|R1KTZMCDOJXAEK|B00DJQYATE|     184945574|By the Tail (Coug...|Digital_Ebook_Pur...|          5|            0|          0|   N|                N|    Love this Series|I love the Cougar...| 2013-09-09|\n",
            "|         US|   11251156|R3SBEH4Y3W9W11|B004XFYNNS|     820449163|The Kingdom (A Fa...|Digital_Ebook_Pur...|          5|            0|          0|   N|                Y|    Love this author|I really enjoy Cl...| 2013-09-09|\n",
            "|         US|   44677006|R3GB8WOHSWW2EG|B00A27Z6GO|     969993834|6 Erotic Bedtime ...|Digital_Ebook_Pur...|          3|            0|          0|   N|                Y|    Didn't finish...|I have to admit I...| 2013-09-09|\n",
            "|         US|   34645512| RDM68WMOEDNRJ|B008EGV4BQ|      36906356|The Purpose Drive...|Digital_Ebook_Pur...|          5|            0|          0|   N|                Y|Can't unread it now!|Thanx paster Rick...| 2013-09-09|\n",
            "|         US|   16137650|R3TW70YF2WZK9O|B00655U3WE|     941986263|Insurgent (Diverg...|Digital_Ebook_Pur...|          5|            0|          0|   N|                Y|Great second inst...|As with divergent...| 2013-09-09|\n",
            "|         US|    4514126|R39ESX43X1SA5T|B006NG0GXQ|     402593554|Forever His: A Ti...|Digital_Ebook_Pur...|          1|           36|         47|   N|                Y|   Completely absurd|From the time tha...| 2013-09-09|\n",
            "|         US|   44803855|R3MCA5W3BZ65OU|B008J4RPWA|     804503161|Summerset Abbey: ...|Digital_Ebook_Pur...|          5|            0|          0|   N|                Y|#2, just as good ...|I love the intera...| 2013-09-09|\n",
            "+-----------+-----------+--------------+----------+--------------+--------------------+--------------------+-----------+-------------+-----------+----+-----------------+--------------------+--------------------+-----------+\n",
            "only showing top 20 rows\n",
            "\n",
            "None\n"
          ],
          "name": "stdout"
        }
      ]
    },
    {
      "cell_type": "code",
      "metadata": {
        "colab": {
          "base_uri": "https://localhost:8080/"
        },
        "id": "h6M-PfUrexhZ",
        "outputId": "b842d675-7842-4cf6-916b-bf20cf0304ae"
      },
      "source": [
        "# Append the review DataFrames together\n",
        "reviews_df = reviews_0_df.union(reviews_1_df)\n",
        "print(f'Total number of records: {reviews_df.count()}')"
      ],
      "execution_count": 10,
      "outputs": [
        {
          "output_type": "stream",
          "text": [
            "Total number of records: 17622415\n"
          ],
          "name": "stdout"
        }
      ]
    },
    {
      "cell_type": "code",
      "metadata": {
        "colab": {
          "base_uri": "https://localhost:8080/"
        },
        "id": "ImQ84ZGKiqZc",
        "outputId": "f78c7c72-7ab1-48ed-8cb6-a29ec00a7500"
      },
      "source": [
        "# View schema\n",
        "reviews_df.printSchema()"
      ],
      "execution_count": 11,
      "outputs": [
        {
          "output_type": "stream",
          "text": [
            "root\n",
            " |-- marketplace: string (nullable = true)\n",
            " |-- customer_id: integer (nullable = true)\n",
            " |-- review_id: string (nullable = true)\n",
            " |-- product_id: string (nullable = true)\n",
            " |-- product_parent: integer (nullable = true)\n",
            " |-- product_title: string (nullable = true)\n",
            " |-- product_category: string (nullable = true)\n",
            " |-- star_rating: integer (nullable = true)\n",
            " |-- helpful_votes: integer (nullable = true)\n",
            " |-- total_votes: integer (nullable = true)\n",
            " |-- vine: string (nullable = true)\n",
            " |-- verified_purchase: string (nullable = true)\n",
            " |-- review_headline: string (nullable = true)\n",
            " |-- review_body: string (nullable = true)\n",
            " |-- review_date: date (nullable = true)\n",
            "\n"
          ],
          "name": "stdout"
        }
      ]
    },
    {
      "cell_type": "markdown",
      "metadata": {
        "id": "R33WybjwP86_"
      },
      "source": [
        "### Look for null values\n",
        "\n",
        "There were not enough null values to warrant removal transfer to the RDS database again."
      ]
    },
    {
      "cell_type": "code",
      "metadata": {
        "colab": {
          "base_uri": "https://localhost:8080/"
        },
        "id": "J28n2Kr1QAQl",
        "outputId": "7acab92c-124f-4e7f-d2bc-bc067397f55e"
      },
      "source": [
        "print(f'marketplace count = {reviews_df.filter(reviews_df.marketplace.isNotNull()).count()}')"
      ],
      "execution_count": 13,
      "outputs": [
        {
          "output_type": "stream",
          "text": [
            "marketplace count = 17622415\n"
          ],
          "name": "stdout"
        }
      ]
    },
    {
      "cell_type": "code",
      "metadata": {
        "colab": {
          "base_uri": "https://localhost:8080/"
        },
        "id": "PNR2imJLYYjA",
        "outputId": "6135c705-cff8-4f20-f9e1-523a2c0801a6"
      },
      "source": [
        "print(f'marketplace count = {reviews_df.filter(reviews_df.marketplace.isNotNull()).count()}')\n",
        "print(f'customer_id count = {reviews_df.filter(reviews_df.customer_id.isNotNull()).count()}')\n",
        "print(f'review_id count = {reviews_df.filter(reviews_df.review_id.isNotNull()).count()}')\n",
        "print(f'product_id count = {reviews_df.filter(reviews_df.product_id.isNotNull()).count()}')\n",
        "print(f'product_parent count = {reviews_df.filter(reviews_df.product_parent.isNotNull()).count()}')\n",
        "print(f'product_title count = {reviews_df.filter(reviews_df.product_title.isNotNull()).count()}')\n",
        "print(f'product_category count = {reviews_df.filter(reviews_df.product_category.isNotNull()).count()}')\n",
        "print(f'helpful_votes count = {reviews_df.filter(reviews_df.helpful_votes.isNotNull()).count()}')\n",
        "print(f'total_votes count = {reviews_df.filter(reviews_df.total_votes.isNotNull()).count()}')\n",
        "print(f'vine count = {reviews_df.filter(reviews_df.vine.isNotNull()).count()}')\n",
        "print(f'verified_purchase count = {reviews_df.filter(reviews_df.verified_purchase.isNotNull()).count()}')\n",
        "print(f'review_headline count = {reviews_df.filter(reviews_df.review_headline.isNotNull()).count()}')\n",
        "print(f'review_body count = {reviews_df.filter(reviews_df.review_body.isNotNull()).count()}')\n",
        "print(f'review_date count = {reviews_df.filter(reviews_df.review_date.isNotNull()).count()}')"
      ],
      "execution_count": 14,
      "outputs": [
        {
          "output_type": "stream",
          "text": [
            "marketplace count = 17622415\n",
            "customer_id count = 17622415\n",
            "review_id count = 17622415\n",
            "product_id count = 17622415\n",
            "product_parent count = 17622415\n",
            "product_title count = 17622415\n",
            "product_category count = 17622389\n",
            "helpful_votes count = 17622381\n",
            "total_votes count = 17622381\n",
            "vine count = 17622381\n",
            "verified_purchase count = 17622381\n",
            "review_headline count = 17622370\n",
            "review_body count = 17620384\n",
            "review_date count = 17620261\n"
          ],
          "name": "stdout"
        }
      ]
    },
    {
      "cell_type": "markdown",
      "metadata": {
        "id": "pOD2laYaelzV"
      },
      "source": [
        "### Create and write review_id_table to RDS database\n",
        "It took 2h 12min to upload 17622415 records.\n",
        "\n",
        "------------\n",
        "\n",
        "select count(review_id)\n",
        "\n",
        "  from review_id_table"
      ]
    },
    {
      "cell_type": "code",
      "metadata": {
        "colab": {
          "base_uri": "https://localhost:8080/"
        },
        "id": "kn1V0Zu8qemr",
        "outputId": "8dfdfabf-fb10-4bb3-b5ab-24ac8590ede7"
      },
      "source": [
        "# Create review_id_table DataFrame\n",
        "\n",
        "review_id_table = reviews_df['review_id', 'customer_id', 'product_id', 'product_parent', 'review_date']\n",
        "print(f'Total number of records: {review_id_table.count()}')\n",
        "review_id_table.show()"
      ],
      "execution_count": null,
      "outputs": [
        {
          "output_type": "stream",
          "text": [
            "Total number of records: 17622415\n",
            "+--------------+-----------+----------+--------------+-----------+\n",
            "|     review_id|customer_id|product_id|product_parent|review_date|\n",
            "+--------------+-----------+----------+--------------+-----------+\n",
            "|R1C5OK9AND7PRP|   35471030|B00AHK07V0|     175130663| 2015-08-31|\n",
            "|R333RNBQMPVUFT|   26579324|B014085WTQ|     859232728| 2015-08-31|\n",
            "|R2A2K0GTNSKXM1|    9152364|B0113MFPN0|     411472516| 2015-08-31|\n",
            "|R365LAQ9REV876|   52087605|B00T8RIK7G|     353828021| 2015-08-31|\n",
            "|R294OF3SNH6SWZ|   46454660|B00EMXBDMA|     803172158| 2015-08-31|\n",
            "|R2OMRH58WYEEP9|   33168429|B00GL3OJIY|     325772386| 2015-08-31|\n",
            "| RBFXYUJZIH5JR|   18546798|B00RW30QE8|     236508296| 2015-08-31|\n",
            "|R2K2RSBNV42HU4|   47463409|B0101AE85Q|     924272105| 2015-08-31|\n",
            "|R2CLRFFJ5HJSU3|   11767467|B00IO7QAI2|     393059633| 2015-08-31|\n",
            "| RS1O7V45AADDO|   14241457|B00PM995TG|     529331494| 2015-08-31|\n",
            "| RYD2AF3KUC4OL|   52821351|B00K4C4GVI|     310020786| 2015-08-31|\n",
            "| RHQTCPUF1CXY2|   14416837|B00PUSKG8I|     683060701| 2015-08-31|\n",
            "|R3371UTDP6I1FU|   17189419|B00FNCSBCE|     813812785| 2015-08-31|\n",
            "|R2RI2S5Q90RG23|   44043796|B004XFYN9M|     972973628| 2015-08-31|\n",
            "| RCYE82T9GRT48|   24135769|B00K0OI42W|     994527755| 2015-08-31|\n",
            "|R12T8WK03VQNC5|   47496659|B00N2HHPQU|     886553830| 2015-08-31|\n",
            "|R3RVME26X4DGJX|   21051459|B00ZPCLT0S|     296387019| 2015-08-31|\n",
            "|R3BME7NLVCMJHW|   45295639|B00QSNV82C|     506388384| 2015-08-31|\n",
            "|R1PKMRYLDMVN2P|   14443051|B00PQL9U4K|      26715694| 2015-08-31|\n",
            "|R1TR7VKTTJV505|   37039571|B004FGMDOQ|     333044434| 2015-08-31|\n",
            "+--------------+-----------+----------+--------------+-----------+\n",
            "only showing top 20 rows\n",
            "\n"
          ],
          "name": "stdout"
        }
      ]
    },
    {
      "cell_type": "code",
      "metadata": {
        "id": "zCJ2_qNVzKLZ"
      },
      "source": [
        "# Write review_id_table to database\n",
        "\n",
        "review_id_table.write.jdbc(url=jdbc_url, table='review_id_table', mode=mode, properties=config)"
      ],
      "execution_count": null,
      "outputs": []
    },
    {
      "cell_type": "markdown",
      "metadata": {
        "id": "xgGKAj4_88yN"
      },
      "source": [
        "### Create and write products to RDS database\n",
        "This took 15min to upload 1387212 records.\n",
        "\n",
        "------------\n",
        "\n",
        "select count(product_id)\n",
        "\n",
        "  from products\n"
      ]
    },
    {
      "cell_type": "code",
      "metadata": {
        "colab": {
          "base_uri": "https://localhost:8080/"
        },
        "id": "NQWnkkyhq86y",
        "outputId": "944d6bfa-fa9e-4557-f1bc-7e894e7fdcf5"
      },
      "source": [
        "# Create products DataFrame\n",
        "\n",
        "products = reviews_df['product_id', 'product_title']\n",
        "products = products.dropDuplicates()\n",
        "print(f'Total number of records: {products.count()}')\n",
        "products.show()"
      ],
      "execution_count": null,
      "outputs": [
        {
          "output_type": "stream",
          "text": [
            "Total number of records: 1387212\n",
            "+----------+--------------------+\n",
            "|product_id|       product_title|\n",
            "+----------+--------------------+\n",
            "|B00BGQ6M0E|Annihilation (Sta...|\n",
            "|B00ZPWCOUW|Soldiers of Pearl...|\n",
            "|B00AFXSTM8|Stardust of Yeste...|\n",
            "|B00ZCYULJY|Cowboy Down Under...|\n",
            "|B00YKBCE1S|Liquid (Wyvern Se...|\n",
            "|B003NX7O00|Storm Prey (The P...|\n",
            "|B012EN6BBM|Claiming His Cowg...|\n",
            "|B00JCFF090|My Big Round Red ...|\n",
            "|B00GIZYMVY|Scandal With a Pr...|\n",
            "|B0145PWTF4|   Biblia Longcrofta|\n",
            "|B00OQRL4QW|The Change (A Nov...|\n",
            "|B005LOPNWK|A Good and Perfec...|\n",
            "|B012QOVWXQ|Twisted Bitch (Si...|\n",
            "|B00EYFNTIW|          Delusional|\n",
            "|B00O6V1VH0|Ever After: A Nan...|\n",
            "|B004H1TLQ2|The Atomic Times:...|\n",
            "|B007YCJZM6|Eden (The Provide...|\n",
            "|B00CRWLL7U|CLEP History of t...|\n",
            "|B00HKZ330W|Does the Atom Hav...|\n",
            "|B007HB81YC|Hidden (Firelight...|\n",
            "+----------+--------------------+\n",
            "only showing top 20 rows\n",
            "\n"
          ],
          "name": "stdout"
        }
      ]
    },
    {
      "cell_type": "code",
      "metadata": {
        "id": "-SlaczeIeuDQ"
      },
      "source": [
        "# Write products to database\n",
        "\n",
        "products.write.jdbc(url=jdbc_url, table='products', mode=mode, properties=config)"
      ],
      "execution_count": null,
      "outputs": []
    },
    {
      "cell_type": "markdown",
      "metadata": {
        "id": "ZyDSq4oCF9Db"
      },
      "source": [
        "### Create and write customers to RDS database\n",
        "This took 8min to upload 5300209 records.\n",
        "\n",
        "------------\n",
        "\n",
        "select count(customers)\n",
        "\n",
        "  from customers\n"
      ]
    },
    {
      "cell_type": "code",
      "metadata": {
        "colab": {
          "base_uri": "https://localhost:8080/"
        },
        "id": "dSZDVGDbkLdn",
        "outputId": "516b2532-ae75-4d92-b0ac-9e7655685adc"
      },
      "source": [
        "# Create customers DataFrame with customer_count as INT\n",
        "\n",
        "customer_count = reviews_df.groupBy('customer_id').count()\n",
        "customer_count = customer_count.withColumn('customer_count',col('count').cast(IntegerType()))\n",
        "customers = customer_count['customer_id', 'customer_count']\n",
        "print(f'Total number of records: {customers.count()}')\n",
        "print(customers.printSchema())\n",
        "customers.show()"
      ],
      "execution_count": null,
      "outputs": [
        {
          "output_type": "stream",
          "text": [
            "Total number of records: 5300209\n",
            "root\n",
            " |-- customer_id: integer (nullable = true)\n",
            " |-- customer_count: integer (nullable = false)\n",
            "\n",
            "None\n",
            "+-----------+--------------+\n",
            "|customer_id|customer_count|\n",
            "+-----------+--------------+\n",
            "|   41341751|            19|\n",
            "|   14582882|             1|\n",
            "|   15158447|             7|\n",
            "|    3070853|            16|\n",
            "|   26248773|           518|\n",
            "|   50058978|             1|\n",
            "|   16667845|             4|\n",
            "|   14217455|             1|\n",
            "|   14754839|             7|\n",
            "|   35311351|             7|\n",
            "|   40182046|             1|\n",
            "|   47574496|             1|\n",
            "|   43133249|            10|\n",
            "|   44269342|           317|\n",
            "|   20688276|             1|\n",
            "|   12819130|             4|\n",
            "|    1154193|            21|\n",
            "|   52427235|             6|\n",
            "|   15948906|             1|\n",
            "|   22996409|            13|\n",
            "+-----------+--------------+\n",
            "only showing top 20 rows\n",
            "\n"
          ],
          "name": "stdout"
        }
      ]
    },
    {
      "cell_type": "code",
      "metadata": {
        "id": "KEGk4lATF0fO"
      },
      "source": [
        "# Write customers to database\n",
        "\n",
        "customers.write.jdbc(url=jdbc_url, table='customers', mode=mode, properties=config)"
      ],
      "execution_count": null,
      "outputs": []
    },
    {
      "cell_type": "markdown",
      "metadata": {
        "id": "8KFee6HZGNaJ"
      },
      "source": [
        "### Create and write vine_table to RDS database\n",
        "This took 25min to upload 17622415 records.\n",
        "\n",
        "------------\n",
        "\n",
        "select count(vine_table)\n",
        "\n",
        "  from vine_table\n"
      ]
    },
    {
      "cell_type": "code",
      "metadata": {
        "colab": {
          "base_uri": "https://localhost:8080/"
        },
        "id": "KqFsRyiBrK4d",
        "outputId": "fc727f6b-bc6f-4f71-cef3-1719109c2a32"
      },
      "source": [
        "# Create vine_table DataFrame\n",
        "\n",
        "vine_table = reviews_df['review_id', 'star_rating', 'helpful_votes', 'total_votes', 'vine']\n",
        "print(f'Total number of records: {vine_table.count()}')\n",
        "vine_table.show()"
      ],
      "execution_count": null,
      "outputs": [
        {
          "output_type": "stream",
          "text": [
            "Total number of records: 17622415\n",
            "+--------------+-----------+-------------+-----------+----+\n",
            "|     review_id|star_rating|helpful_votes|total_votes|vine|\n",
            "+--------------+-----------+-------------+-----------+----+\n",
            "|R1C5OK9AND7PRP|          5|            0|          0|   N|\n",
            "|R333RNBQMPVUFT|          5|            0|          0|   N|\n",
            "|R2A2K0GTNSKXM1|          5|            0|          0|   N|\n",
            "|R365LAQ9REV876|          3|            0|          0|   N|\n",
            "|R294OF3SNH6SWZ|          4|            0|          0|   N|\n",
            "|R2OMRH58WYEEP9|          5|            0|          0|   N|\n",
            "| RBFXYUJZIH5JR|          5|            0|          0|   N|\n",
            "|R2K2RSBNV42HU4|          5|            0|          0|   N|\n",
            "|R2CLRFFJ5HJSU3|          4|            0|          0|   N|\n",
            "| RS1O7V45AADDO|          4|            0|          0|   N|\n",
            "| RYD2AF3KUC4OL|          5|            2|          2|   N|\n",
            "| RHQTCPUF1CXY2|          4|            0|          0|   N|\n",
            "|R3371UTDP6I1FU|          5|            0|          0|   N|\n",
            "|R2RI2S5Q90RG23|          5|            0|          0|   N|\n",
            "| RCYE82T9GRT48|          5|            0|          0|   N|\n",
            "|R12T8WK03VQNC5|          4|            1|          1|   N|\n",
            "|R3RVME26X4DGJX|          5|            0|          0|   N|\n",
            "|R3BME7NLVCMJHW|          4|            0|          0|   N|\n",
            "|R1PKMRYLDMVN2P|          3|            0|          0|   N|\n",
            "|R1TR7VKTTJV505|          5|            0|          0|   N|\n",
            "+--------------+-----------+-------------+-----------+----+\n",
            "only showing top 20 rows\n",
            "\n"
          ],
          "name": "stdout"
        }
      ]
    },
    {
      "cell_type": "code",
      "metadata": {
        "id": "L6sKYVSwHy-R"
      },
      "source": [
        "# Write vine_table to database\n",
        "\n",
        "vine_table.write.jdbc(url=jdbc_url, table='vine_table', mode=mode, properties=config)"
      ],
      "execution_count": null,
      "outputs": []
    }
  ]
}